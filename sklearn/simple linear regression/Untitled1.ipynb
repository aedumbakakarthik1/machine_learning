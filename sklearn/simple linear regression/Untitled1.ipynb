{
 "cells": [
  {
   "cell_type": "code",
   "execution_count": 34,
   "id": "490eb7b7",
   "metadata": {},
   "outputs": [],
   "source": [
    "import numpy as np\n",
    "import pandas as pd\n",
    "import matplotlib.pyplot as plt\n",
    "%matplotlib inline\n",
    "from sklearn.linear_model import LinearRegression"
   ]
  },
  {
   "cell_type": "code",
   "execution_count": 35,
   "id": "1869a634",
   "metadata": {},
   "outputs": [],
   "source": [
    "df=pd.read_csv(\"WIKI-PRICES.csv\")"
   ]
  },
  {
   "cell_type": "code",
   "execution_count": 36,
   "id": "e82d1aa5",
   "metadata": {},
   "outputs": [
    {
     "data": {
      "text/html": [
       "<div>\n",
       "<style scoped>\n",
       "    .dataframe tbody tr th:only-of-type {\n",
       "        vertical-align: middle;\n",
       "    }\n",
       "\n",
       "    .dataframe tbody tr th {\n",
       "        vertical-align: top;\n",
       "    }\n",
       "\n",
       "    .dataframe thead th {\n",
       "        text-align: right;\n",
       "    }\n",
       "</style>\n",
       "<table border=\"1\" class=\"dataframe\">\n",
       "  <thead>\n",
       "    <tr style=\"text-align: right;\">\n",
       "      <th></th>\n",
       "      <th>ticker</th>\n",
       "      <th>date</th>\n",
       "      <th>open</th>\n",
       "      <th>high</th>\n",
       "      <th>low</th>\n",
       "      <th>close</th>\n",
       "      <th>volume</th>\n",
       "      <th>ex-dividend</th>\n",
       "      <th>split_ratio</th>\n",
       "      <th>adj_open</th>\n",
       "      <th>adj_high</th>\n",
       "      <th>adj_low</th>\n",
       "      <th>adj_close</th>\n",
       "      <th>adj_volume</th>\n",
       "    </tr>\n",
       "  </thead>\n",
       "  <tbody>\n",
       "    <tr>\n",
       "      <th>0</th>\n",
       "      <td>ZUMZ</td>\n",
       "      <td>2018-03-27</td>\n",
       "      <td>24.65</td>\n",
       "      <td>24.65</td>\n",
       "      <td>23.3500</td>\n",
       "      <td>23.60</td>\n",
       "      <td>403884.0</td>\n",
       "      <td>0.0</td>\n",
       "      <td>1.0</td>\n",
       "      <td>24.65</td>\n",
       "      <td>24.65</td>\n",
       "      <td>23.3500</td>\n",
       "      <td>23.60</td>\n",
       "      <td>403884.0</td>\n",
       "    </tr>\n",
       "    <tr>\n",
       "      <th>1</th>\n",
       "      <td>ZUMZ</td>\n",
       "      <td>2018-03-26</td>\n",
       "      <td>23.75</td>\n",
       "      <td>24.80</td>\n",
       "      <td>23.7000</td>\n",
       "      <td>24.65</td>\n",
       "      <td>375320.0</td>\n",
       "      <td>0.0</td>\n",
       "      <td>1.0</td>\n",
       "      <td>23.75</td>\n",
       "      <td>24.80</td>\n",
       "      <td>23.7000</td>\n",
       "      <td>24.65</td>\n",
       "      <td>375320.0</td>\n",
       "    </tr>\n",
       "    <tr>\n",
       "      <th>2</th>\n",
       "      <td>ZUMZ</td>\n",
       "      <td>2018-03-23</td>\n",
       "      <td>23.55</td>\n",
       "      <td>24.20</td>\n",
       "      <td>23.4500</td>\n",
       "      <td>23.55</td>\n",
       "      <td>301584.0</td>\n",
       "      <td>0.0</td>\n",
       "      <td>1.0</td>\n",
       "      <td>23.55</td>\n",
       "      <td>24.20</td>\n",
       "      <td>23.4500</td>\n",
       "      <td>23.55</td>\n",
       "      <td>301584.0</td>\n",
       "    </tr>\n",
       "    <tr>\n",
       "      <th>3</th>\n",
       "      <td>ZUMZ</td>\n",
       "      <td>2018-03-22</td>\n",
       "      <td>23.90</td>\n",
       "      <td>24.35</td>\n",
       "      <td>23.3000</td>\n",
       "      <td>23.35</td>\n",
       "      <td>269607.0</td>\n",
       "      <td>0.0</td>\n",
       "      <td>1.0</td>\n",
       "      <td>23.90</td>\n",
       "      <td>24.35</td>\n",
       "      <td>23.3000</td>\n",
       "      <td>23.35</td>\n",
       "      <td>269607.0</td>\n",
       "    </tr>\n",
       "    <tr>\n",
       "      <th>4</th>\n",
       "      <td>ZUMZ</td>\n",
       "      <td>2018-03-21</td>\n",
       "      <td>23.80</td>\n",
       "      <td>24.60</td>\n",
       "      <td>23.6058</td>\n",
       "      <td>23.95</td>\n",
       "      <td>354092.0</td>\n",
       "      <td>0.0</td>\n",
       "      <td>1.0</td>\n",
       "      <td>23.80</td>\n",
       "      <td>24.60</td>\n",
       "      <td>23.6058</td>\n",
       "      <td>23.95</td>\n",
       "      <td>354092.0</td>\n",
       "    </tr>\n",
       "  </tbody>\n",
       "</table>\n",
       "</div>"
      ],
      "text/plain": [
       "  ticker        date   open   high      low  close    volume  ex-dividend  \\\n",
       "0   ZUMZ  2018-03-27  24.65  24.65  23.3500  23.60  403884.0          0.0   \n",
       "1   ZUMZ  2018-03-26  23.75  24.80  23.7000  24.65  375320.0          0.0   \n",
       "2   ZUMZ  2018-03-23  23.55  24.20  23.4500  23.55  301584.0          0.0   \n",
       "3   ZUMZ  2018-03-22  23.90  24.35  23.3000  23.35  269607.0          0.0   \n",
       "4   ZUMZ  2018-03-21  23.80  24.60  23.6058  23.95  354092.0          0.0   \n",
       "\n",
       "   split_ratio  adj_open  adj_high  adj_low  adj_close  adj_volume  \n",
       "0          1.0     24.65     24.65  23.3500      23.60    403884.0  \n",
       "1          1.0     23.75     24.80  23.7000      24.65    375320.0  \n",
       "2          1.0     23.55     24.20  23.4500      23.55    301584.0  \n",
       "3          1.0     23.90     24.35  23.3000      23.35    269607.0  \n",
       "4          1.0     23.80     24.60  23.6058      23.95    354092.0  "
      ]
     },
     "execution_count": 36,
     "metadata": {},
     "output_type": "execute_result"
    }
   ],
   "source": [
    "df.head()"
   ]
  },
  {
   "cell_type": "code",
   "execution_count": 37,
   "id": "abc8f93e",
   "metadata": {},
   "outputs": [
    {
     "data": {
      "text/html": [
       "<div>\n",
       "<style scoped>\n",
       "    .dataframe tbody tr th:only-of-type {\n",
       "        vertical-align: middle;\n",
       "    }\n",
       "\n",
       "    .dataframe tbody tr th {\n",
       "        vertical-align: top;\n",
       "    }\n",
       "\n",
       "    .dataframe thead th {\n",
       "        text-align: right;\n",
       "    }\n",
       "</style>\n",
       "<table border=\"1\" class=\"dataframe\">\n",
       "  <thead>\n",
       "    <tr style=\"text-align: right;\">\n",
       "      <th></th>\n",
       "      <th>date</th>\n",
       "      <th>adj_close</th>\n",
       "      <th>adj_volume</th>\n",
       "      <th>HL_PCT</th>\n",
       "      <th>PCT_change</th>\n",
       "    </tr>\n",
       "  </thead>\n",
       "  <tbody>\n",
       "    <tr>\n",
       "      <th>0</th>\n",
       "      <td>2018-03-27</td>\n",
       "      <td>23.60</td>\n",
       "      <td>403884.0</td>\n",
       "      <td>4.449153</td>\n",
       "      <td>-4.259635</td>\n",
       "    </tr>\n",
       "    <tr>\n",
       "      <th>1</th>\n",
       "      <td>2018-03-26</td>\n",
       "      <td>24.65</td>\n",
       "      <td>375320.0</td>\n",
       "      <td>0.608519</td>\n",
       "      <td>3.789474</td>\n",
       "    </tr>\n",
       "    <tr>\n",
       "      <th>2</th>\n",
       "      <td>2018-03-23</td>\n",
       "      <td>23.55</td>\n",
       "      <td>301584.0</td>\n",
       "      <td>2.760085</td>\n",
       "      <td>0.000000</td>\n",
       "    </tr>\n",
       "    <tr>\n",
       "      <th>3</th>\n",
       "      <td>2018-03-22</td>\n",
       "      <td>23.35</td>\n",
       "      <td>269607.0</td>\n",
       "      <td>4.282655</td>\n",
       "      <td>-2.301255</td>\n",
       "    </tr>\n",
       "    <tr>\n",
       "      <th>4</th>\n",
       "      <td>2018-03-21</td>\n",
       "      <td>23.95</td>\n",
       "      <td>354092.0</td>\n",
       "      <td>2.713987</td>\n",
       "      <td>0.630252</td>\n",
       "    </tr>\n",
       "  </tbody>\n",
       "</table>\n",
       "</div>"
      ],
      "text/plain": [
       "         date  adj_close  adj_volume    HL_PCT  PCT_change\n",
       "0  2018-03-27      23.60    403884.0  4.449153   -4.259635\n",
       "1  2018-03-26      24.65    375320.0  0.608519    3.789474\n",
       "2  2018-03-23      23.55    301584.0  2.760085    0.000000\n",
       "3  2018-03-22      23.35    269607.0  4.282655   -2.301255\n",
       "4  2018-03-21      23.95    354092.0  2.713987    0.630252"
      ]
     },
     "execution_count": 37,
     "metadata": {},
     "output_type": "execute_result"
    }
   ],
   "source": [
    "# High-low percentage\n",
    "df['HL_PCT'] = (df['adj_high'] - df['adj_close']) / df['adj_close'] * 100\n",
    "\n",
    "# Percentage change ((new - old) / old * 100)\n",
    "df['PCT_change'] = (df['adj_close'] - df['adj_open']) / df['adj_open'] * 100\n",
    "\n",
    "# Define useful columns\n",
    "columns = [\n",
    "    \"date\",\n",
    "    'adj_close',\n",
    "    'adj_volume',\n",
    "    'HL_PCT',\n",
    "    'PCT_change',\n",
    "]\n",
    "\n",
    "df = df[columns]\n",
    "\n",
    "df.head()"
   ]
  },
  {
   "cell_type": "code",
   "execution_count": null,
   "id": "beed4642",
   "metadata": {},
   "outputs": [],
   "source": []
  },
  {
   "cell_type": "code",
   "execution_count": 38,
   "id": "c91d8613",
   "metadata": {},
   "outputs": [],
   "source": [
    "df = df.set_index('date')"
   ]
  },
  {
   "cell_type": "code",
   "execution_count": 39,
   "id": "d3ca8e6c",
   "metadata": {},
   "outputs": [
    {
     "data": {
      "text/html": [
       "<div>\n",
       "<style scoped>\n",
       "    .dataframe tbody tr th:only-of-type {\n",
       "        vertical-align: middle;\n",
       "    }\n",
       "\n",
       "    .dataframe tbody tr th {\n",
       "        vertical-align: top;\n",
       "    }\n",
       "\n",
       "    .dataframe thead th {\n",
       "        text-align: right;\n",
       "    }\n",
       "</style>\n",
       "<table border=\"1\" class=\"dataframe\">\n",
       "  <thead>\n",
       "    <tr style=\"text-align: right;\">\n",
       "      <th></th>\n",
       "      <th>adj_close</th>\n",
       "      <th>adj_volume</th>\n",
       "      <th>HL_PCT</th>\n",
       "      <th>PCT_change</th>\n",
       "    </tr>\n",
       "    <tr>\n",
       "      <th>date</th>\n",
       "      <th></th>\n",
       "      <th></th>\n",
       "      <th></th>\n",
       "      <th></th>\n",
       "    </tr>\n",
       "  </thead>\n",
       "  <tbody>\n",
       "    <tr>\n",
       "      <th>2018-03-27</th>\n",
       "      <td>23.60</td>\n",
       "      <td>403884.0</td>\n",
       "      <td>4.449153</td>\n",
       "      <td>-4.259635</td>\n",
       "    </tr>\n",
       "    <tr>\n",
       "      <th>2018-03-26</th>\n",
       "      <td>24.65</td>\n",
       "      <td>375320.0</td>\n",
       "      <td>0.608519</td>\n",
       "      <td>3.789474</td>\n",
       "    </tr>\n",
       "    <tr>\n",
       "      <th>2018-03-23</th>\n",
       "      <td>23.55</td>\n",
       "      <td>301584.0</td>\n",
       "      <td>2.760085</td>\n",
       "      <td>0.000000</td>\n",
       "    </tr>\n",
       "    <tr>\n",
       "      <th>2018-03-22</th>\n",
       "      <td>23.35</td>\n",
       "      <td>269607.0</td>\n",
       "      <td>4.282655</td>\n",
       "      <td>-2.301255</td>\n",
       "    </tr>\n",
       "    <tr>\n",
       "      <th>2018-03-21</th>\n",
       "      <td>23.95</td>\n",
       "      <td>354092.0</td>\n",
       "      <td>2.713987</td>\n",
       "      <td>0.630252</td>\n",
       "    </tr>\n",
       "  </tbody>\n",
       "</table>\n",
       "</div>"
      ],
      "text/plain": [
       "            adj_close  adj_volume    HL_PCT  PCT_change\n",
       "date                                                   \n",
       "2018-03-27      23.60    403884.0  4.449153   -4.259635\n",
       "2018-03-26      24.65    375320.0  0.608519    3.789474\n",
       "2018-03-23      23.55    301584.0  2.760085    0.000000\n",
       "2018-03-22      23.35    269607.0  4.282655   -2.301255\n",
       "2018-03-21      23.95    354092.0  2.713987    0.630252"
      ]
     },
     "execution_count": 39,
     "metadata": {},
     "output_type": "execute_result"
    }
   ],
   "source": [
    "df.head()"
   ]
  },
  {
   "cell_type": "code",
   "execution_count": 42,
   "id": "963c43e0",
   "metadata": {},
   "outputs": [
    {
     "data": {
      "text/html": [
       "<div>\n",
       "<style scoped>\n",
       "    .dataframe tbody tr th:only-of-type {\n",
       "        vertical-align: middle;\n",
       "    }\n",
       "\n",
       "    .dataframe tbody tr th {\n",
       "        vertical-align: top;\n",
       "    }\n",
       "\n",
       "    .dataframe thead th {\n",
       "        text-align: right;\n",
       "    }\n",
       "</style>\n",
       "<table border=\"1\" class=\"dataframe\">\n",
       "  <thead>\n",
       "    <tr style=\"text-align: right;\">\n",
       "      <th></th>\n",
       "      <th>adj_close</th>\n",
       "      <th>adj_volume</th>\n",
       "      <th>HL_PCT</th>\n",
       "      <th>PCT_change</th>\n",
       "    </tr>\n",
       "  </thead>\n",
       "  <tbody>\n",
       "    <tr>\n",
       "      <th>2018-03-27</th>\n",
       "      <td>23.60</td>\n",
       "      <td>403884.0</td>\n",
       "      <td>4.449153</td>\n",
       "      <td>-4.259635</td>\n",
       "    </tr>\n",
       "    <tr>\n",
       "      <th>2018-03-26</th>\n",
       "      <td>24.65</td>\n",
       "      <td>375320.0</td>\n",
       "      <td>0.608519</td>\n",
       "      <td>3.789474</td>\n",
       "    </tr>\n",
       "    <tr>\n",
       "      <th>2018-03-23</th>\n",
       "      <td>23.55</td>\n",
       "      <td>301584.0</td>\n",
       "      <td>2.760085</td>\n",
       "      <td>0.000000</td>\n",
       "    </tr>\n",
       "    <tr>\n",
       "      <th>2018-03-22</th>\n",
       "      <td>23.35</td>\n",
       "      <td>269607.0</td>\n",
       "      <td>4.282655</td>\n",
       "      <td>-2.301255</td>\n",
       "    </tr>\n",
       "    <tr>\n",
       "      <th>2018-03-21</th>\n",
       "      <td>23.95</td>\n",
       "      <td>354092.0</td>\n",
       "      <td>2.713987</td>\n",
       "      <td>0.630252</td>\n",
       "    </tr>\n",
       "  </tbody>\n",
       "</table>\n",
       "</div>"
      ],
      "text/plain": [
       "            adj_close  adj_volume    HL_PCT  PCT_change\n",
       "2018-03-27      23.60    403884.0  4.449153   -4.259635\n",
       "2018-03-26      24.65    375320.0  0.608519    3.789474\n",
       "2018-03-23      23.55    301584.0  2.760085    0.000000\n",
       "2018-03-22      23.35    269607.0  4.282655   -2.301255\n",
       "2018-03-21      23.95    354092.0  2.713987    0.630252"
      ]
     },
     "execution_count": 42,
     "metadata": {},
     "output_type": "execute_result"
    }
   ],
   "source": [
    "df.index.name = None\n",
    "df.head()"
   ]
  },
  {
   "cell_type": "code",
   "execution_count": 43,
   "id": "dda9b429",
   "metadata": {},
   "outputs": [
    {
     "name": "stdout",
     "output_type": "stream",
     "text": [
      "<class 'pandas.core.frame.DataFrame'>\n",
      "Index: 10000 entries, 2018-03-27 to 1994-01-04\n",
      "Data columns (total 4 columns):\n",
      " #   Column      Non-Null Count  Dtype  \n",
      "---  ------      --------------  -----  \n",
      " 0   adj_close   10000 non-null  float64\n",
      " 1   adj_volume  10000 non-null  float64\n",
      " 2   HL_PCT      10000 non-null  float64\n",
      " 3   PCT_change  10000 non-null  float64\n",
      "dtypes: float64(4)\n",
      "memory usage: 390.6+ KB\n"
     ]
    }
   ],
   "source": [
    "df.info()"
   ]
  },
  {
   "cell_type": "code",
   "execution_count": 44,
   "id": "9dea76a8",
   "metadata": {},
   "outputs": [
    {
     "data": {
      "text/plain": [
       "10000"
      ]
     },
     "execution_count": 44,
     "metadata": {},
     "output_type": "execute_result"
    }
   ],
   "source": [
    "len(df)"
   ]
  },
  {
   "cell_type": "code",
   "execution_count": 45,
   "id": "57f3fd78",
   "metadata": {},
   "outputs": [
    {
     "data": {
      "text/plain": [
       "100"
      ]
     },
     "execution_count": 45,
     "metadata": {},
     "output_type": "execute_result"
    }
   ],
   "source": [
    "forecast_col=\"adj_close\"\n",
    "df.fillna(-9999, inplace=True)\n",
    "import math\n",
    "# amount of days in advance\n",
    "forecast_out = int(math.ceil(0.01*len(df)))\n",
    "forecast_out"
   ]
  },
  {
   "cell_type": "code",
   "execution_count": 46,
   "id": "4d18d494",
   "metadata": {},
   "outputs": [
    {
     "data": {
      "text/html": [
       "<div>\n",
       "<style scoped>\n",
       "    .dataframe tbody tr th:only-of-type {\n",
       "        vertical-align: middle;\n",
       "    }\n",
       "\n",
       "    .dataframe tbody tr th {\n",
       "        vertical-align: top;\n",
       "    }\n",
       "\n",
       "    .dataframe thead th {\n",
       "        text-align: right;\n",
       "    }\n",
       "</style>\n",
       "<table border=\"1\" class=\"dataframe\">\n",
       "  <thead>\n",
       "    <tr style=\"text-align: right;\">\n",
       "      <th></th>\n",
       "      <th>adj_close</th>\n",
       "      <th>adj_volume</th>\n",
       "      <th>HL_PCT</th>\n",
       "      <th>PCT_change</th>\n",
       "      <th>label</th>\n",
       "    </tr>\n",
       "  </thead>\n",
       "  <tbody>\n",
       "    <tr>\n",
       "      <th>2018-03-27</th>\n",
       "      <td>23.60</td>\n",
       "      <td>403884.0</td>\n",
       "      <td>4.449153</td>\n",
       "      <td>-4.259635</td>\n",
       "      <td>17.40</td>\n",
       "    </tr>\n",
       "    <tr>\n",
       "      <th>2018-03-26</th>\n",
       "      <td>24.65</td>\n",
       "      <td>375320.0</td>\n",
       "      <td>0.608519</td>\n",
       "      <td>3.789474</td>\n",
       "      <td>17.95</td>\n",
       "    </tr>\n",
       "    <tr>\n",
       "      <th>2018-03-23</th>\n",
       "      <td>23.55</td>\n",
       "      <td>301584.0</td>\n",
       "      <td>2.760085</td>\n",
       "      <td>0.000000</td>\n",
       "      <td>18.50</td>\n",
       "    </tr>\n",
       "    <tr>\n",
       "      <th>2018-03-22</th>\n",
       "      <td>23.35</td>\n",
       "      <td>269607.0</td>\n",
       "      <td>4.282655</td>\n",
       "      <td>-2.301255</td>\n",
       "      <td>18.05</td>\n",
       "    </tr>\n",
       "    <tr>\n",
       "      <th>2018-03-21</th>\n",
       "      <td>23.95</td>\n",
       "      <td>354092.0</td>\n",
       "      <td>2.713987</td>\n",
       "      <td>0.630252</td>\n",
       "      <td>17.90</td>\n",
       "    </tr>\n",
       "  </tbody>\n",
       "</table>\n",
       "</div>"
      ],
      "text/plain": [
       "            adj_close  adj_volume    HL_PCT  PCT_change  label\n",
       "2018-03-27      23.60    403884.0  4.449153   -4.259635  17.40\n",
       "2018-03-26      24.65    375320.0  0.608519    3.789474  17.95\n",
       "2018-03-23      23.55    301584.0  2.760085    0.000000  18.50\n",
       "2018-03-22      23.35    269607.0  4.282655   -2.301255  18.05\n",
       "2018-03-21      23.95    354092.0  2.713987    0.630252  17.90"
      ]
     },
     "execution_count": 46,
     "metadata": {},
     "output_type": "execute_result"
    }
   ],
   "source": [
    "# set the label to the shift of the forecast col\n",
    "df['label'] = df[forecast_col].shift(-forecast_out)\n",
    "df.dropna(inplace=True)\n",
    "df.head()"
   ]
  },
  {
   "cell_type": "code",
   "execution_count": 47,
   "id": "7f15c065",
   "metadata": {},
   "outputs": [],
   "source": [
    "# X feature\n",
    "X = np.array(df.drop(['label'],axis=1))\n",
    "\n",
    "# y labels\n",
    "y = np.array(df['label'])\n",
    "\n",
    "# Scale up X\n",
    "X = preprocessing.scale(X)\n",
    "y = np.array(df['label'])\n",
    "\n",
    "# Create the train and test set\n",
    "from sklearn.model_selection import train_test_split\n",
    "X_train, X_test, y_train, y_test = train_test_split(X, y, test_size=0.2)"
   ]
  },
  {
   "cell_type": "code",
   "execution_count": 48,
   "id": "0346474e",
   "metadata": {},
   "outputs": [
    {
     "data": {
      "text/plain": [
       "0.7357015764902737"
      ]
     },
     "execution_count": 48,
     "metadata": {},
     "output_type": "execute_result"
    }
   ],
   "source": [
    "clf = LinearRegression()\n",
    "# Train the model\n",
    "clf.fit(X_train, y_train)\n",
    "# Test the accuracy\n",
    "clf.score(X_test, y_test)"
   ]
  },
  {
   "cell_type": "code",
   "execution_count": 49,
   "id": "ae275330",
   "metadata": {},
   "outputs": [
    {
     "data": {
      "text/plain": [
       "0.7381208061031114"
      ]
     },
     "execution_count": 49,
     "metadata": {},
     "output_type": "execute_result"
    }
   ],
   "source": [
    "from sklearn import svm\n",
    "clf = svm.SVR()\n",
    "# Train the model\n",
    "clf.fit(X_train, y_train)\n",
    "clf.score(X_test, y_test)"
   ]
  },
  {
   "cell_type": "code",
   "execution_count": 50,
   "id": "704e8d00",
   "metadata": {},
   "outputs": [
    {
     "data": {
      "text/plain": [
       "array([29.31261565, 27.83618275, 33.82621029, 32.73827227, 29.34688757,\n",
       "       28.06010808, 30.62841246, 27.96577775, 28.61937128, 24.7624322 ,\n",
       "       36.79443113, 30.20839629, 28.33014542, 30.01186307, 30.37858314,\n",
       "       32.48052923, 28.9962659 , 35.44171704, 30.59692273, 32.22754153,\n",
       "       28.10796039, 32.15022847, 31.34393769, 30.22241079, 28.54121652,\n",
       "       31.37611532, 27.00831158, 29.26523633, 26.3636929 , 26.56799114,\n",
       "       29.84044643, 27.35771031, 27.8886312 , 27.82433249, 33.78187886,\n",
       "       28.72445917, 29.07648966, 35.62786643, 29.38883643, 27.24700644,\n",
       "       29.48776636, 29.84740424, 26.791232  , 27.58349445, 26.92701925,\n",
       "       28.13634784, 26.29087024, 35.29670348, 30.48977076, 30.66628233,\n",
       "       31.77528914, 34.42550089, 30.26167602, 30.06475988, 28.80903819,\n",
       "       32.18022468, 27.22156877, 28.74891522, 29.79836812, 29.36441504,\n",
       "       26.71142948, 28.20513673, 27.36227451, 27.7530037 , 27.02292671,\n",
       "       27.50828521, 29.06957247, 27.65590176, 28.87717314, 30.67368118,\n",
       "       27.36554176, 29.28295626, 28.28253242, 30.65567599, 27.75476526,\n",
       "       27.73131106, 28.88363987, 29.36249237, 27.58275807, 29.77505311,\n",
       "       28.31823992, 28.55395138, 29.24407262, 30.06443902, 27.51114126,\n",
       "       28.43044252, 27.8845491 , 30.1070269 , 29.47491403, 30.0179229 ,\n",
       "       31.8947532 , 35.59624571, 32.65984729, 31.35901401, 26.74400551,\n",
       "       26.74837425, 32.48032449, 27.89110687, 31.52354589, 29.4027636 ,\n",
       "       28.76349698, 27.48482398, 29.80334629, 27.97453812, 27.2729837 ,\n",
       "       33.82226818, 27.96903165, 28.17491586, 28.28608204, 26.83903554,\n",
       "       34.12767707, 34.10680102, 29.73583849, 29.14297782, 35.3877067 ,\n",
       "       36.19447142, 34.47007155, 35.43403949, 34.76721104, 33.02143838,\n",
       "       34.94548978, 31.63209829, 30.7751347 , 32.50935812, 30.05425389,\n",
       "       33.1682109 , 29.97359393, 34.94583414, 35.07992789, 31.39204714,\n",
       "       31.66215746, 33.85691269, 30.96990093, 37.92228786, 33.71397439,\n",
       "       31.27711612, 38.97175641, 35.62655564, 33.24931451, 35.53463319,\n",
       "       37.1125544 , 32.89068725, 34.07143789, 24.98446627, 46.74277428,\n",
       "       38.54597114, 39.66134833, 39.09582029, 35.00440082, 34.35497857,\n",
       "       35.07378092, 33.47360758, 31.48881412, 34.36574344, 36.36522532,\n",
       "       37.13587606, 42.93206713, 38.02027451, 33.36955024, 34.44684141,\n",
       "       37.96500116, 37.44735654, 35.79231316, 33.38604884, 33.07887441,\n",
       "       35.20517578, 36.69875999, 31.57936756, 36.06175581, 37.91063842,\n",
       "       33.09451381, 37.30261175, 34.73890887, 39.61012539, 38.14285909,\n",
       "       36.18130665, 39.75851705, 37.12614785, 36.08190937, 32.60296821,\n",
       "       38.27192604, 31.92019512, 31.2552149 , 29.60632354, 33.07556178,\n",
       "       32.80453163, 34.1390344 , 34.15570657, 30.1586558 , 29.83345429,\n",
       "       32.87008342, 32.79442059, 30.66666573, 31.5828999 , 35.54288215,\n",
       "       32.81783946, 35.68857351, 31.73066518, 31.15459787, 36.40641972,\n",
       "       33.78388111, 33.39122112, 31.18793466, 36.50386255, 34.23518973,\n",
       "       35.0335747 , 32.14371407, 33.92327242, 33.4607279 , 31.43054804,\n",
       "       32.16613062, 33.09751196, 33.18892907, 33.69534378, 34.31973021,\n",
       "       35.60246792, 32.21068895, 36.21050814, 32.20387284, 38.44205779,\n",
       "       33.26785609, 33.16320545, 36.89579757, 33.17337517, 32.16235689,\n",
       "       36.76300033, 36.10230994, 33.41855761, 37.99041923, 37.47022144,\n",
       "       35.06959407, 32.9751572 , 35.04754864, 33.15202072, 35.55411375,\n",
       "       34.89713261, 32.01336391, 35.80561197, 35.90019915, 38.92875409,\n",
       "       38.62064902, 50.9824757 , 41.40974748, 39.34543264, 38.25948615,\n",
       "       40.7157915 , 37.09871577, 35.81748234, 35.95924047, 40.29788846,\n",
       "       31.75511393, 34.96080856, 37.37822598, 34.24041251, 36.77408116,\n",
       "       38.62780509, 32.04469106, 34.70613044, 34.00222512, 34.00297399,\n",
       "       39.18296604, 45.63236596, 41.84159279, 39.58215759, 43.05472275,\n",
       "       39.47873709, 46.791613  , 40.26942107, 37.08630172, 36.64194848,\n",
       "       37.28742846, 42.25118102, 35.15754644, 38.90247051, 39.79407602,\n",
       "       39.83725675, 39.14493845, 38.79222982, 35.37130842, 31.30820889,\n",
       "       36.3924995 , 35.92969409, 37.00849009, 32.20862005, 38.03876641,\n",
       "       39.73985452, 37.08315952, 37.55335272, 36.15680234, 38.04811327,\n",
       "       35.69723858, 35.98994864, 38.81922787, 47.38833767, 42.5027714 ,\n",
       "       43.51020081, 38.13380304, 40.000096  , 38.9332686 , 45.98375186,\n",
       "       41.4510159 , 47.59000438, 42.84940849, 42.30480464, 43.13085099,\n",
       "       45.3385329 , 49.38189648, 30.06821274, 19.42817591, 34.46361728,\n",
       "       17.81280582, 38.96917168, 45.08626197, 39.09652062, 40.4679215 ,\n",
       "       47.07627457, 42.83655782, 45.63700276, 49.87216791, 45.10931258,\n",
       "       43.31509951, 38.60413847, 39.71447958, 44.41410981, 27.85697807,\n",
       "       37.12351836, 42.94540472, 38.21219661, 38.58985001, 37.77931968,\n",
       "       40.17666959, 46.68152863, 35.5993067 , 44.46275681, 50.6723171 ,\n",
       "       44.56870977, 46.67612192, 48.45104942, 46.30924888, 37.29652588,\n",
       "       35.96037249, 48.8925098 , 17.05388726])"
      ]
     },
     "execution_count": 50,
     "metadata": {},
     "output_type": "execute_result"
    }
   ],
   "source": [
    "forecast_set = clf.predict(X_lately)\n",
    "forecast_set"
   ]
  },
  {
   "cell_type": "code",
   "execution_count": 56,
   "id": "6b55946c",
   "metadata": {},
   "outputs": [
    {
     "ename": "AttributeError",
     "evalue": "'str' object has no attribute 'timestamp'",
     "output_type": "error",
     "traceback": [
      "\u001b[1;31m---------------------------------------------------------------------------\u001b[0m",
      "\u001b[1;31mAttributeError\u001b[0m                            Traceback (most recent call last)",
      "Input \u001b[1;32mIn [56]\u001b[0m, in \u001b[0;36m<cell line: 5>\u001b[1;34m()\u001b[0m\n\u001b[0;32m      3\u001b[0m df[\u001b[38;5;124m'\u001b[39m\u001b[38;5;124mForecast\u001b[39m\u001b[38;5;124m'\u001b[39m] \u001b[38;5;241m=\u001b[39m np\u001b[38;5;241m.\u001b[39mnan\n\u001b[0;32m      4\u001b[0m last_date \u001b[38;5;241m=\u001b[39m df\u001b[38;5;241m.\u001b[39miloc[\u001b[38;5;241m-\u001b[39m\u001b[38;5;241m1\u001b[39m]\u001b[38;5;241m.\u001b[39mname\n\u001b[1;32m----> 5\u001b[0m last_unix  \u001b[38;5;241m=\u001b[39m \u001b[43mlast_date\u001b[49m\u001b[38;5;241;43m.\u001b[39;49m\u001b[43mtimestamp\u001b[49m()\n\u001b[0;32m      6\u001b[0m one_day \u001b[38;5;241m=\u001b[39m \u001b[38;5;241m86400\u001b[39m\n\u001b[0;32m      7\u001b[0m next_unix \u001b[38;5;241m=\u001b[39m last_unix\u001b[38;5;241m+\u001b[39mone_day\n",
      "\u001b[1;31mAttributeError\u001b[0m: 'str' object has no attribute 'timestamp'"
     ]
    }
   ],
   "source": [
    "import datetime\n",
    "import time\n",
    "df['Forecast'] = np.nan\n",
    "last_date = df.iloc[-1].name\n",
    "last_unix  = last_date.timestamp()\n",
    "one_day = 86400\n",
    "next_unix = last_unix+one_day\n",
    "\n",
    "for i in forecast_set:\n",
    "    next_date = datetime.datetime.fromtimestamp(next_unix)\n",
    "    next_unix += one_day\n",
    "    df.loc[next_date] = [np.nan for _ in range(len(df.columns)-1)]+[i]\n",
    "\n",
    "print(df.head())\n"
   ]
  },
  {
   "cell_type": "code",
   "execution_count": null,
   "id": "f8fd306c",
   "metadata": {},
   "outputs": [],
   "source": []
  }
 ],
 "metadata": {
  "kernelspec": {
   "display_name": "Python 3 (ipykernel)",
   "language": "python",
   "name": "python3"
  },
  "language_info": {
   "codemirror_mode": {
    "name": "ipython",
    "version": 3
   },
   "file_extension": ".py",
   "mimetype": "text/x-python",
   "name": "python",
   "nbconvert_exporter": "python",
   "pygments_lexer": "ipython3",
   "version": "3.9.12"
  }
 },
 "nbformat": 4,
 "nbformat_minor": 5
}
