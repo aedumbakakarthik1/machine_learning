{
 "cells": [
  {
   "cell_type": "markdown",
   "id": "0965b1bc",
   "metadata": {},
   "source": [
    "## slope"
   ]
  },
  {
   "cell_type": "markdown",
   "id": "b8d163e0",
   "metadata": {},
   "source": [
    "m=np.sum((x-x_mean)*(y-y_mean))/(np.sum(x-x_mean)***2)\n"
   ]
  },
  {
   "cell_type": "markdown",
   "id": "889f39d0",
   "metadata": {},
   "source": [
    "## intercept \n",
    "y_mean- slope *x_mean"
   ]
  },
  {
   "cell_type": "code",
   "execution_count": 2,
   "id": "10de2259",
   "metadata": {},
   "outputs": [],
   "source": [
    "import pandas as pd\n",
    "import numpy as np\n",
    "import matplotlib.pyplot as plt\n",
    "%matplotlib inline"
   ]
  },
  {
   "cell_type": "code",
   "execution_count": 3,
   "id": "f88fe236",
   "metadata": {},
   "outputs": [
    {
     "name": "stdout",
     "output_type": "stream",
     "text": [
      "<class 'pandas.core.frame.DataFrame'>\n",
      "RangeIndex: 30 entries, 0 to 29\n",
      "Data columns (total 2 columns):\n",
      " #   Column           Non-Null Count  Dtype  \n",
      "---  ------           --------------  -----  \n",
      " 0   YearsExperience  30 non-null     float64\n",
      " 1   Salary           30 non-null     float64\n",
      "dtypes: float64(2)\n",
      "memory usage: 608.0 bytes\n"
     ]
    }
   ],
   "source": [
    "#define the data using pandas \n",
    "df=pd.read_csv(\"Salary_Data.csv\")\n",
    "df.info() # to get the information of the data of csv file"
   ]
  },
  {
   "cell_type": "code",
   "execution_count": 4,
   "id": "e6173366",
   "metadata": {},
   "outputs": [
    {
     "data": {
      "text/html": [
       "<div>\n",
       "<style scoped>\n",
       "    .dataframe tbody tr th:only-of-type {\n",
       "        vertical-align: middle;\n",
       "    }\n",
       "\n",
       "    .dataframe tbody tr th {\n",
       "        vertical-align: top;\n",
       "    }\n",
       "\n",
       "    .dataframe thead th {\n",
       "        text-align: right;\n",
       "    }\n",
       "</style>\n",
       "<table border=\"1\" class=\"dataframe\">\n",
       "  <thead>\n",
       "    <tr style=\"text-align: right;\">\n",
       "      <th></th>\n",
       "      <th>YearsExperience</th>\n",
       "      <th>Salary</th>\n",
       "    </tr>\n",
       "  </thead>\n",
       "  <tbody>\n",
       "    <tr>\n",
       "      <th>0</th>\n",
       "      <td>1.1</td>\n",
       "      <td>39343.0</td>\n",
       "    </tr>\n",
       "    <tr>\n",
       "      <th>1</th>\n",
       "      <td>1.3</td>\n",
       "      <td>46205.0</td>\n",
       "    </tr>\n",
       "    <tr>\n",
       "      <th>2</th>\n",
       "      <td>1.5</td>\n",
       "      <td>37731.0</td>\n",
       "    </tr>\n",
       "    <tr>\n",
       "      <th>3</th>\n",
       "      <td>2.0</td>\n",
       "      <td>43525.0</td>\n",
       "    </tr>\n",
       "    <tr>\n",
       "      <th>4</th>\n",
       "      <td>2.2</td>\n",
       "      <td>39891.0</td>\n",
       "    </tr>\n",
       "  </tbody>\n",
       "</table>\n",
       "</div>"
      ],
      "text/plain": [
       "   YearsExperience   Salary\n",
       "0              1.1  39343.0\n",
       "1              1.3  46205.0\n",
       "2              1.5  37731.0\n",
       "3              2.0  43525.0\n",
       "4              2.2  39891.0"
      ]
     },
     "execution_count": 4,
     "metadata": {},
     "output_type": "execute_result"
    }
   ],
   "source": [
    "df.head()"
   ]
  },
  {
   "cell_type": "code",
   "execution_count": 5,
   "id": "43410447",
   "metadata": {},
   "outputs": [
    {
     "name": "stdout",
     "output_type": "stream",
     "text": [
      "9449.962321455077\n",
      "25792.20019866869\n"
     ]
    },
    {
     "data": {
      "image/png": "[encoded data removed]",
      "text/plain": [
       "<Figure size 432x288 with 1 Axes>"
      ]
     },
     "metadata": {
      "needs_background": "light"
     },
     "output_type": "display_data"
    }
   ],
   "source": [
    "#training the data\n",
    "X=df[\"YearsExperience\"]\n",
    "y=df[\"Salary\"]\n",
    "\n",
    "#calculate the mean\n",
    "x_mean = np.mean(X)\n",
    "y_mean = np.mean(y)\n",
    "\n",
    "# slope and intercept \n",
    "slope= np.sum((X-x_mean)*(y-y_mean)) / np.sum((X-x_mean)**2)\n",
    "intercept = y_mean - slope * x_mean\n",
    "\n",
    "# create a range of x value from x min and max x\n",
    "x_range= np.array([np.min(X),np.max(X)])\n",
    "\n",
    "# calculate a range corresponding y value using slope and intercept \n",
    "y_pred= intercept + slope * x_range\n",
    "\n",
    "#plot the data and the line of best fit\n",
    "plt.scatter(X,y)\n",
    "plt.plot(x_range,y_pred,c=\"green\")\n",
    "\n",
    "\n",
    "# just know thw slope(coefficient ) and intercept\n",
    "print(slope)\n",
    "print(intercept)"
   ]
  },
  {
   "cell_type": "markdown",
   "id": "2fbf5356",
   "metadata": {},
   "source": [
    "## using sklearn "
   ]
  },
  {
   "cell_type": "code",
   "execution_count": 8,
   "id": "bd1126ab",
   "metadata": {},
   "outputs": [],
   "source": [
    "from sklearn.linear_model import LinearRegression\n",
    "from sklearn.model_selection import train_test_split\n",
    "X=df[[\"YearsExperience\"]]\n",
    "y=df[\"Salary\"]\n",
    "x_train , x_test, y_train, y_test = train_test_split(X,y,random_state=0 ,test_size=0.2)\n",
    "reg= LinearRegression()\n",
    "reg.fit(x_train,y_train)\n",
    "y_perd=reg.predict(X)"
   ]
  },
  {
   "cell_type": "code",
   "execution_count": 9,
   "id": "7084b508",
   "metadata": {},
   "outputs": [
    {
     "data": {
      "text/plain": [
       "26780.099150628186"
      ]
     },
     "execution_count": 9,
     "metadata": {},
     "output_type": "execute_result"
    }
   ],
   "source": [
    "reg.intercept_"
   ]
  },
  {
   "cell_type": "code",
   "execution_count": 10,
   "id": "98bab5a0",
   "metadata": {},
   "outputs": [
    {
     "data": {
      "text/plain": [
       "array([9312.57512673])"
      ]
     },
     "execution_count": 10,
     "metadata": {},
     "output_type": "execute_result"
    }
   ],
   "source": [
    "reg.coef_"
   ]
  },
  {
   "cell_type": "code",
   "execution_count": 13,
   "id": "1572ea60",
   "metadata": {},
   "outputs": [
    {
     "data": {
      "text/plain": [
       "0.9566628347576891"
      ]
     },
     "execution_count": 13,
     "metadata": {},
     "output_type": "execute_result"
    }
   ],
   "source": [
    "from sklearn.metrics import r2_score\n",
    "\n",
    "# y_true is the true values of the dependent variable\n",
    "r2 = r2_score(y, y_perd) # where y the value and y_pred is the predict vale of x \n",
    "r2"
   ]
  },
  {
   "cell_type": "code",
   "execution_count": null,
   "id": "06c523a5",
   "metadata": {},
   "outputs": [],
   "source": []
  }
 ],
 "metadata": {
  "kernelspec": {
   "display_name": "Python 3 (ipykernel)",
   "language": "python",
   "name": "python3"
  },
  "language_info": {
   "codemirror_mode": {
    "name": "ipython",
    "version": 3
   },
   "file_extension": ".py",
   "mimetype": "text/x-python",
   "name": "python",
   "nbconvert_exporter": "python",
   "pygments_lexer": "ipython3",
   "version": "3.9.12"
  }
 },
 "nbformat": 4,
 "nbformat_minor": 5
}
