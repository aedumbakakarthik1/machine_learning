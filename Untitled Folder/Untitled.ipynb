{
 "cells": [
  {
   "cell_type": "code",
   "execution_count": 34,
   "id": "916cce70",
   "metadata": {},
   "outputs": [],
   "source": [
    "import pandas as pd #it is a lib to read , write, etc to out dataset\n",
    "import quandl as q\n",
    "\n",
    "# Imports\n",
    "import pandas as pd\n",
    "import numpy as np\n",
    "import datetime as dt\n",
    "import math\n",
    "import quandl\n",
    "import matplotlib.pyplot as plt\n",
    "from matplotlib import style\n",
    "\n",
    "style.use(\"ggplot\")\n",
    "%matplotlib inline\n",
    "\n",
    "from sklearn import preprocessing, svm\n",
    "from sklearn.linear_model import LinearRegression"
   ]
  },
  {
   "cell_type": "code",
   "execution_count": 3,
   "id": "26af86d0",
   "metadata": {},
   "outputs": [],
   "source": [
    "df= pd.read_csv(\"WIKI-PRICES.csv\") #reading the csv file and stored in df "
   ]
  },
  {
   "cell_type": "code",
   "execution_count": 4,
   "id": "9933cf74",
   "metadata": {},
   "outputs": [
    {
     "data": {
      "text/html": [
       "<div>\n",
       "<style scoped>\n",
       "    .dataframe tbody tr th:only-of-type {\n",
       "        vertical-align: middle;\n",
       "    }\n",
       "\n",
       "    .dataframe tbody tr th {\n",
       "        vertical-align: top;\n",
       "    }\n",
       "\n",
       "    .dataframe thead th {\n",
       "        text-align: right;\n",
       "    }\n",
       "</style>\n",
       "<table border=\"1\" class=\"dataframe\">\n",
       "  <thead>\n",
       "    <tr style=\"text-align: right;\">\n",
       "      <th></th>\n",
       "      <th>ticker</th>\n",
       "      <th>date</th>\n",
       "      <th>open</th>\n",
       "      <th>high</th>\n",
       "      <th>low</th>\n",
       "      <th>close</th>\n",
       "      <th>volume</th>\n",
       "      <th>ex-dividend</th>\n",
       "      <th>split_ratio</th>\n",
       "      <th>adj_open</th>\n",
       "      <th>adj_high</th>\n",
       "      <th>adj_low</th>\n",
       "      <th>adj_close</th>\n",
       "      <th>adj_volume</th>\n",
       "    </tr>\n",
       "  </thead>\n",
       "  <tbody>\n",
       "    <tr>\n",
       "      <th>0</th>\n",
       "      <td>ZUMZ</td>\n",
       "      <td>2018-03-27</td>\n",
       "      <td>24.65</td>\n",
       "      <td>24.65</td>\n",
       "      <td>23.3500</td>\n",
       "      <td>23.60</td>\n",
       "      <td>403884.0</td>\n",
       "      <td>0.0</td>\n",
       "      <td>1.0</td>\n",
       "      <td>24.65</td>\n",
       "      <td>24.65</td>\n",
       "      <td>23.3500</td>\n",
       "      <td>23.60</td>\n",
       "      <td>403884.0</td>\n",
       "    </tr>\n",
       "    <tr>\n",
       "      <th>1</th>\n",
       "      <td>ZUMZ</td>\n",
       "      <td>2018-03-26</td>\n",
       "      <td>23.75</td>\n",
       "      <td>24.80</td>\n",
       "      <td>23.7000</td>\n",
       "      <td>24.65</td>\n",
       "      <td>375320.0</td>\n",
       "      <td>0.0</td>\n",
       "      <td>1.0</td>\n",
       "      <td>23.75</td>\n",
       "      <td>24.80</td>\n",
       "      <td>23.7000</td>\n",
       "      <td>24.65</td>\n",
       "      <td>375320.0</td>\n",
       "    </tr>\n",
       "    <tr>\n",
       "      <th>2</th>\n",
       "      <td>ZUMZ</td>\n",
       "      <td>2018-03-23</td>\n",
       "      <td>23.55</td>\n",
       "      <td>24.20</td>\n",
       "      <td>23.4500</td>\n",
       "      <td>23.55</td>\n",
       "      <td>301584.0</td>\n",
       "      <td>0.0</td>\n",
       "      <td>1.0</td>\n",
       "      <td>23.55</td>\n",
       "      <td>24.20</td>\n",
       "      <td>23.4500</td>\n",
       "      <td>23.55</td>\n",
       "      <td>301584.0</td>\n",
       "    </tr>\n",
       "    <tr>\n",
       "      <th>3</th>\n",
       "      <td>ZUMZ</td>\n",
       "      <td>2018-03-22</td>\n",
       "      <td>23.90</td>\n",
       "      <td>24.35</td>\n",
       "      <td>23.3000</td>\n",
       "      <td>23.35</td>\n",
       "      <td>269607.0</td>\n",
       "      <td>0.0</td>\n",
       "      <td>1.0</td>\n",
       "      <td>23.90</td>\n",
       "      <td>24.35</td>\n",
       "      <td>23.3000</td>\n",
       "      <td>23.35</td>\n",
       "      <td>269607.0</td>\n",
       "    </tr>\n",
       "    <tr>\n",
       "      <th>4</th>\n",
       "      <td>ZUMZ</td>\n",
       "      <td>2018-03-21</td>\n",
       "      <td>23.80</td>\n",
       "      <td>24.60</td>\n",
       "      <td>23.6058</td>\n",
       "      <td>23.95</td>\n",
       "      <td>354092.0</td>\n",
       "      <td>0.0</td>\n",
       "      <td>1.0</td>\n",
       "      <td>23.80</td>\n",
       "      <td>24.60</td>\n",
       "      <td>23.6058</td>\n",
       "      <td>23.95</td>\n",
       "      <td>354092.0</td>\n",
       "    </tr>\n",
       "  </tbody>\n",
       "</table>\n",
       "</div>"
      ],
      "text/plain": [
       "  ticker        date   open   high      low  close    volume  ex-dividend  \\\n",
       "0   ZUMZ  2018-03-27  24.65  24.65  23.3500  23.60  403884.0          0.0   \n",
       "1   ZUMZ  2018-03-26  23.75  24.80  23.7000  24.65  375320.0          0.0   \n",
       "2   ZUMZ  2018-03-23  23.55  24.20  23.4500  23.55  301584.0          0.0   \n",
       "3   ZUMZ  2018-03-22  23.90  24.35  23.3000  23.35  269607.0          0.0   \n",
       "4   ZUMZ  2018-03-21  23.80  24.60  23.6058  23.95  354092.0          0.0   \n",
       "\n",
       "   split_ratio  adj_open  adj_high  adj_low  adj_close  adj_volume  \n",
       "0          1.0     24.65     24.65  23.3500      23.60    403884.0  \n",
       "1          1.0     23.75     24.80  23.7000      24.65    375320.0  \n",
       "2          1.0     23.55     24.20  23.4500      23.55    301584.0  \n",
       "3          1.0     23.90     24.35  23.3000      23.35    269607.0  \n",
       "4          1.0     23.80     24.60  23.6058      23.95    354092.0  "
      ]
     },
     "execution_count": 4,
     "metadata": {},
     "output_type": "execute_result"
    }
   ],
   "source": [
    "df.head() # it will show the top 5 rows of the data \n"
   ]
  },
  {
   "cell_type": "code",
   "execution_count": 5,
   "id": "2d15641b",
   "metadata": {},
   "outputs": [
    {
     "name": "stdout",
     "output_type": "stream",
     "text": [
      "<class 'pandas.core.frame.DataFrame'>\n",
      "RangeIndex: 10000 entries, 0 to 9999\n",
      "Data columns (total 14 columns):\n",
      " #   Column       Non-Null Count  Dtype  \n",
      "---  ------       --------------  -----  \n",
      " 0   ticker       10000 non-null  object \n",
      " 1   date         10000 non-null  object \n",
      " 2   open         10000 non-null  float64\n",
      " 3   high         10000 non-null  float64\n",
      " 4   low          10000 non-null  float64\n",
      " 5   close        10000 non-null  float64\n",
      " 6   volume       10000 non-null  float64\n",
      " 7   ex-dividend  10000 non-null  float64\n",
      " 8   split_ratio  10000 non-null  float64\n",
      " 9   adj_open     10000 non-null  float64\n",
      " 10  adj_high     10000 non-null  float64\n",
      " 11  adj_low      10000 non-null  float64\n",
      " 12  adj_close    10000 non-null  float64\n",
      " 13  adj_volume   10000 non-null  float64\n",
      "dtypes: float64(12), object(2)\n",
      "memory usage: 1.1+ MB\n"
     ]
    }
   ],
   "source": [
    "df.info()"
   ]
  },
  {
   "cell_type": "code",
   "execution_count": 6,
   "id": "e1c9f180",
   "metadata": {},
   "outputs": [],
   "source": [
    "df = df.set_index('date')"
   ]
  },
  {
   "cell_type": "code",
   "execution_count": 7,
   "id": "e125360e",
   "metadata": {},
   "outputs": [
    {
     "data": {
      "text/html": [
       "<div>\n",
       "<style scoped>\n",
       "    .dataframe tbody tr th:only-of-type {\n",
       "        vertical-align: middle;\n",
       "    }\n",
       "\n",
       "    .dataframe tbody tr th {\n",
       "        vertical-align: top;\n",
       "    }\n",
       "\n",
       "    .dataframe thead th {\n",
       "        text-align: right;\n",
       "    }\n",
       "</style>\n",
       "<table border=\"1\" class=\"dataframe\">\n",
       "  <thead>\n",
       "    <tr style=\"text-align: right;\">\n",
       "      <th></th>\n",
       "      <th>ticker</th>\n",
       "      <th>open</th>\n",
       "      <th>high</th>\n",
       "      <th>low</th>\n",
       "      <th>close</th>\n",
       "      <th>volume</th>\n",
       "      <th>ex-dividend</th>\n",
       "      <th>split_ratio</th>\n",
       "      <th>adj_open</th>\n",
       "      <th>adj_high</th>\n",
       "      <th>adj_low</th>\n",
       "      <th>adj_close</th>\n",
       "      <th>adj_volume</th>\n",
       "    </tr>\n",
       "    <tr>\n",
       "      <th>date</th>\n",
       "      <th></th>\n",
       "      <th></th>\n",
       "      <th></th>\n",
       "      <th></th>\n",
       "      <th></th>\n",
       "      <th></th>\n",
       "      <th></th>\n",
       "      <th></th>\n",
       "      <th></th>\n",
       "      <th></th>\n",
       "      <th></th>\n",
       "      <th></th>\n",
       "      <th></th>\n",
       "    </tr>\n",
       "  </thead>\n",
       "  <tbody>\n",
       "    <tr>\n",
       "      <th>2018-03-27</th>\n",
       "      <td>ZUMZ</td>\n",
       "      <td>24.65</td>\n",
       "      <td>24.65</td>\n",
       "      <td>23.3500</td>\n",
       "      <td>23.60</td>\n",
       "      <td>403884.0</td>\n",
       "      <td>0.0</td>\n",
       "      <td>1.0</td>\n",
       "      <td>24.65</td>\n",
       "      <td>24.65</td>\n",
       "      <td>23.3500</td>\n",
       "      <td>23.60</td>\n",
       "      <td>403884.0</td>\n",
       "    </tr>\n",
       "    <tr>\n",
       "      <th>2018-03-26</th>\n",
       "      <td>ZUMZ</td>\n",
       "      <td>23.75</td>\n",
       "      <td>24.80</td>\n",
       "      <td>23.7000</td>\n",
       "      <td>24.65</td>\n",
       "      <td>375320.0</td>\n",
       "      <td>0.0</td>\n",
       "      <td>1.0</td>\n",
       "      <td>23.75</td>\n",
       "      <td>24.80</td>\n",
       "      <td>23.7000</td>\n",
       "      <td>24.65</td>\n",
       "      <td>375320.0</td>\n",
       "    </tr>\n",
       "    <tr>\n",
       "      <th>2018-03-23</th>\n",
       "      <td>ZUMZ</td>\n",
       "      <td>23.55</td>\n",
       "      <td>24.20</td>\n",
       "      <td>23.4500</td>\n",
       "      <td>23.55</td>\n",
       "      <td>301584.0</td>\n",
       "      <td>0.0</td>\n",
       "      <td>1.0</td>\n",
       "      <td>23.55</td>\n",
       "      <td>24.20</td>\n",
       "      <td>23.4500</td>\n",
       "      <td>23.55</td>\n",
       "      <td>301584.0</td>\n",
       "    </tr>\n",
       "    <tr>\n",
       "      <th>2018-03-22</th>\n",
       "      <td>ZUMZ</td>\n",
       "      <td>23.90</td>\n",
       "      <td>24.35</td>\n",
       "      <td>23.3000</td>\n",
       "      <td>23.35</td>\n",
       "      <td>269607.0</td>\n",
       "      <td>0.0</td>\n",
       "      <td>1.0</td>\n",
       "      <td>23.90</td>\n",
       "      <td>24.35</td>\n",
       "      <td>23.3000</td>\n",
       "      <td>23.35</td>\n",
       "      <td>269607.0</td>\n",
       "    </tr>\n",
       "    <tr>\n",
       "      <th>2018-03-21</th>\n",
       "      <td>ZUMZ</td>\n",
       "      <td>23.80</td>\n",
       "      <td>24.60</td>\n",
       "      <td>23.6058</td>\n",
       "      <td>23.95</td>\n",
       "      <td>354092.0</td>\n",
       "      <td>0.0</td>\n",
       "      <td>1.0</td>\n",
       "      <td>23.80</td>\n",
       "      <td>24.60</td>\n",
       "      <td>23.6058</td>\n",
       "      <td>23.95</td>\n",
       "      <td>354092.0</td>\n",
       "    </tr>\n",
       "  </tbody>\n",
       "</table>\n",
       "</div>"
      ],
      "text/plain": [
       "           ticker   open   high      low  close    volume  ex-dividend  \\\n",
       "date                                                                     \n",
       "2018-03-27   ZUMZ  24.65  24.65  23.3500  23.60  403884.0          0.0   \n",
       "2018-03-26   ZUMZ  23.75  24.80  23.7000  24.65  375320.0          0.0   \n",
       "2018-03-23   ZUMZ  23.55  24.20  23.4500  23.55  301584.0          0.0   \n",
       "2018-03-22   ZUMZ  23.90  24.35  23.3000  23.35  269607.0          0.0   \n",
       "2018-03-21   ZUMZ  23.80  24.60  23.6058  23.95  354092.0          0.0   \n",
       "\n",
       "            split_ratio  adj_open  adj_high  adj_low  adj_close  adj_volume  \n",
       "date                                                                         \n",
       "2018-03-27          1.0     24.65     24.65  23.3500      23.60    403884.0  \n",
       "2018-03-26          1.0     23.75     24.80  23.7000      24.65    375320.0  \n",
       "2018-03-23          1.0     23.55     24.20  23.4500      23.55    301584.0  \n",
       "2018-03-22          1.0     23.90     24.35  23.3000      23.35    269607.0  \n",
       "2018-03-21          1.0     23.80     24.60  23.6058      23.95    354092.0  "
      ]
     },
     "execution_count": 7,
     "metadata": {},
     "output_type": "execute_result"
    }
   ],
   "source": [
    "df.head()"
   ]
  },
  {
   "cell_type": "code",
   "execution_count": 8,
   "id": "ff5acbe7",
   "metadata": {},
   "outputs": [],
   "source": [
    "df=df[[\"adj_open\",\"adj_high\",\"adj_close\",\"adj_volume\"]] # WE ARE Taking the columns  which we are using "
   ]
  },
  {
   "cell_type": "code",
   "execution_count": null,
   "id": "2a5a8029",
   "metadata": {},
   "outputs": [],
   "source": []
  },
  {
   "cell_type": "code",
   "execution_count": 9,
   "id": "a47d2ac3",
   "metadata": {},
   "outputs": [
    {
     "data": {
      "text/html": [
       "<div>\n",
       "<style scoped>\n",
       "    .dataframe tbody tr th:only-of-type {\n",
       "        vertical-align: middle;\n",
       "    }\n",
       "\n",
       "    .dataframe tbody tr th {\n",
       "        vertical-align: top;\n",
       "    }\n",
       "\n",
       "    .dataframe thead th {\n",
       "        text-align: right;\n",
       "    }\n",
       "</style>\n",
       "<table border=\"1\" class=\"dataframe\">\n",
       "  <thead>\n",
       "    <tr style=\"text-align: right;\">\n",
       "      <th></th>\n",
       "      <th>adj_open</th>\n",
       "      <th>adj_high</th>\n",
       "      <th>adj_close</th>\n",
       "      <th>adj_volume</th>\n",
       "    </tr>\n",
       "    <tr>\n",
       "      <th>date</th>\n",
       "      <th></th>\n",
       "      <th></th>\n",
       "      <th></th>\n",
       "      <th></th>\n",
       "    </tr>\n",
       "  </thead>\n",
       "  <tbody>\n",
       "    <tr>\n",
       "      <th>2018-03-27</th>\n",
       "      <td>24.65</td>\n",
       "      <td>24.65</td>\n",
       "      <td>23.60</td>\n",
       "      <td>403884.0</td>\n",
       "    </tr>\n",
       "    <tr>\n",
       "      <th>2018-03-26</th>\n",
       "      <td>23.75</td>\n",
       "      <td>24.80</td>\n",
       "      <td>24.65</td>\n",
       "      <td>375320.0</td>\n",
       "    </tr>\n",
       "    <tr>\n",
       "      <th>2018-03-23</th>\n",
       "      <td>23.55</td>\n",
       "      <td>24.20</td>\n",
       "      <td>23.55</td>\n",
       "      <td>301584.0</td>\n",
       "    </tr>\n",
       "    <tr>\n",
       "      <th>2018-03-22</th>\n",
       "      <td>23.90</td>\n",
       "      <td>24.35</td>\n",
       "      <td>23.35</td>\n",
       "      <td>269607.0</td>\n",
       "    </tr>\n",
       "    <tr>\n",
       "      <th>2018-03-21</th>\n",
       "      <td>23.80</td>\n",
       "      <td>24.60</td>\n",
       "      <td>23.95</td>\n",
       "      <td>354092.0</td>\n",
       "    </tr>\n",
       "  </tbody>\n",
       "</table>\n",
       "</div>"
      ],
      "text/plain": [
       "            adj_open  adj_high  adj_close  adj_volume\n",
       "date                                                 \n",
       "2018-03-27     24.65     24.65      23.60    403884.0\n",
       "2018-03-26     23.75     24.80      24.65    375320.0\n",
       "2018-03-23     23.55     24.20      23.55    301584.0\n",
       "2018-03-22     23.90     24.35      23.35    269607.0\n",
       "2018-03-21     23.80     24.60      23.95    354092.0"
      ]
     },
     "execution_count": 9,
     "metadata": {},
     "output_type": "execute_result"
    }
   ],
   "source": [
    "df.head()"
   ]
  },
  {
   "cell_type": "code",
   "execution_count": 10,
   "id": "df008fb1",
   "metadata": {},
   "outputs": [],
   "source": [
    "df[\"HL_PCT\"]=((df[\"adj_high\"]-df[\"adj_close\"])/df[\"adj_close\"])*100  # we are doing the percentage of high and close \n",
    "df[\"PCT_change\"]=((df[\"adj_close\"]-df[\"adj_open\"])/df[\"adj_open\"])*100 # we are doing the percentage change in the close and open"
   ]
  },
  {
   "cell_type": "code",
   "execution_count": 11,
   "id": "38ada711",
   "metadata": {},
   "outputs": [
    {
     "data": {
      "text/html": [
       "<div>\n",
       "<style scoped>\n",
       "    .dataframe tbody tr th:only-of-type {\n",
       "        vertical-align: middle;\n",
       "    }\n",
       "\n",
       "    .dataframe tbody tr th {\n",
       "        vertical-align: top;\n",
       "    }\n",
       "\n",
       "    .dataframe thead th {\n",
       "        text-align: right;\n",
       "    }\n",
       "</style>\n",
       "<table border=\"1\" class=\"dataframe\">\n",
       "  <thead>\n",
       "    <tr style=\"text-align: right;\">\n",
       "      <th></th>\n",
       "      <th>adj_open</th>\n",
       "      <th>adj_high</th>\n",
       "      <th>adj_close</th>\n",
       "      <th>adj_volume</th>\n",
       "      <th>HL_PCT</th>\n",
       "      <th>PCT_change</th>\n",
       "    </tr>\n",
       "    <tr>\n",
       "      <th>date</th>\n",
       "      <th></th>\n",
       "      <th></th>\n",
       "      <th></th>\n",
       "      <th></th>\n",
       "      <th></th>\n",
       "      <th></th>\n",
       "    </tr>\n",
       "  </thead>\n",
       "  <tbody>\n",
       "    <tr>\n",
       "      <th>2018-03-27</th>\n",
       "      <td>24.65</td>\n",
       "      <td>24.65</td>\n",
       "      <td>23.60</td>\n",
       "      <td>403884.0</td>\n",
       "      <td>4.449153</td>\n",
       "      <td>-4.259635</td>\n",
       "    </tr>\n",
       "    <tr>\n",
       "      <th>2018-03-26</th>\n",
       "      <td>23.75</td>\n",
       "      <td>24.80</td>\n",
       "      <td>24.65</td>\n",
       "      <td>375320.0</td>\n",
       "      <td>0.608519</td>\n",
       "      <td>3.789474</td>\n",
       "    </tr>\n",
       "    <tr>\n",
       "      <th>2018-03-23</th>\n",
       "      <td>23.55</td>\n",
       "      <td>24.20</td>\n",
       "      <td>23.55</td>\n",
       "      <td>301584.0</td>\n",
       "      <td>2.760085</td>\n",
       "      <td>0.000000</td>\n",
       "    </tr>\n",
       "    <tr>\n",
       "      <th>2018-03-22</th>\n",
       "      <td>23.90</td>\n",
       "      <td>24.35</td>\n",
       "      <td>23.35</td>\n",
       "      <td>269607.0</td>\n",
       "      <td>4.282655</td>\n",
       "      <td>-2.301255</td>\n",
       "    </tr>\n",
       "    <tr>\n",
       "      <th>2018-03-21</th>\n",
       "      <td>23.80</td>\n",
       "      <td>24.60</td>\n",
       "      <td>23.95</td>\n",
       "      <td>354092.0</td>\n",
       "      <td>2.713987</td>\n",
       "      <td>0.630252</td>\n",
       "    </tr>\n",
       "  </tbody>\n",
       "</table>\n",
       "</div>"
      ],
      "text/plain": [
       "            adj_open  adj_high  adj_close  adj_volume    HL_PCT  PCT_change\n",
       "date                                                                       \n",
       "2018-03-27     24.65     24.65      23.60    403884.0  4.449153   -4.259635\n",
       "2018-03-26     23.75     24.80      24.65    375320.0  0.608519    3.789474\n",
       "2018-03-23     23.55     24.20      23.55    301584.0  2.760085    0.000000\n",
       "2018-03-22     23.90     24.35      23.35    269607.0  4.282655   -2.301255\n",
       "2018-03-21     23.80     24.60      23.95    354092.0  2.713987    0.630252"
      ]
     },
     "execution_count": 11,
     "metadata": {},
     "output_type": "execute_result"
    }
   ],
   "source": [
    "df.head()"
   ]
  },
  {
   "cell_type": "code",
   "execution_count": 12,
   "id": "5bb664a3",
   "metadata": {},
   "outputs": [
    {
     "name": "stdout",
     "output_type": "stream",
     "text": [
      "<class 'pandas.core.frame.DataFrame'>\n",
      "Index: 10000 entries, 2018-03-27 to 1994-01-04\n",
      "Data columns (total 6 columns):\n",
      " #   Column      Non-Null Count  Dtype  \n",
      "---  ------      --------------  -----  \n",
      " 0   adj_open    10000 non-null  float64\n",
      " 1   adj_high    10000 non-null  float64\n",
      " 2   adj_close   10000 non-null  float64\n",
      " 3   adj_volume  10000 non-null  float64\n",
      " 4   HL_PCT      10000 non-null  float64\n",
      " 5   PCT_change  10000 non-null  float64\n",
      "dtypes: float64(6)\n",
      "memory usage: 546.9+ KB\n"
     ]
    }
   ],
   "source": [
    "df.info() # it will show the all the information of the dataset "
   ]
  },
  {
   "cell_type": "code",
   "execution_count": 13,
   "id": "e2ff51b6",
   "metadata": {},
   "outputs": [
    {
     "data": {
      "text/plain": [
       "100"
      ]
     },
     "execution_count": 13,
     "metadata": {},
     "output_type": "execute_result"
    }
   ],
   "source": [
    "import math # it is math lib in python which is use to calculation of math prombles\n",
    "forecast_cal=df[\"adj_close\"] \n",
    "forecast_out=int(math.ceil(0.01*len(df))) #ceil means rounds the valuse like 4.6=5 and 0.1 in for 10% of data\n",
    "forecast_out"
   ]
  },
  {
   "cell_type": "code",
   "execution_count": 14,
   "id": "b30d9dba",
   "metadata": {},
   "outputs": [
    {
     "data": {
      "text/plain": [
       "date\n",
       "2018-03-27    23.600000\n",
       "2018-03-26    24.650000\n",
       "2018-03-23    23.550000\n",
       "2018-03-22    23.350000\n",
       "2018-03-21    23.950000\n",
       "                ...    \n",
       "1994-01-10     1.145833\n",
       "1994-01-07     1.197500\n",
       "1994-01-06     1.208333\n",
       "1994-01-05     1.280833\n",
       "1994-01-04     1.250000\n",
       "Name: adj_close, Length: 10000, dtype: float64"
      ]
     },
     "execution_count": 14,
     "metadata": {},
     "output_type": "execute_result"
    }
   ],
   "source": [
    "forecast_cal"
   ]
  },
  {
   "cell_type": "code",
   "execution_count": 15,
   "id": "9f7a76ce",
   "metadata": {},
   "outputs": [],
   "source": [
    "df[\"label\"]=forecast_cal.shift(-forecast_out)"
   ]
  },
  {
   "cell_type": "code",
   "execution_count": 16,
   "id": "a95c5b14",
   "metadata": {},
   "outputs": [
    {
     "data": {
      "text/html": [
       "<div>\n",
       "<style scoped>\n",
       "    .dataframe tbody tr th:only-of-type {\n",
       "        vertical-align: middle;\n",
       "    }\n",
       "\n",
       "    .dataframe tbody tr th {\n",
       "        vertical-align: top;\n",
       "    }\n",
       "\n",
       "    .dataframe thead th {\n",
       "        text-align: right;\n",
       "    }\n",
       "</style>\n",
       "<table border=\"1\" class=\"dataframe\">\n",
       "  <thead>\n",
       "    <tr style=\"text-align: right;\">\n",
       "      <th></th>\n",
       "      <th>adj_open</th>\n",
       "      <th>adj_high</th>\n",
       "      <th>adj_close</th>\n",
       "      <th>adj_volume</th>\n",
       "      <th>HL_PCT</th>\n",
       "      <th>PCT_change</th>\n",
       "      <th>label</th>\n",
       "    </tr>\n",
       "    <tr>\n",
       "      <th>date</th>\n",
       "      <th></th>\n",
       "      <th></th>\n",
       "      <th></th>\n",
       "      <th></th>\n",
       "      <th></th>\n",
       "      <th></th>\n",
       "      <th></th>\n",
       "    </tr>\n",
       "  </thead>\n",
       "  <tbody>\n",
       "    <tr>\n",
       "      <th>2018-03-27</th>\n",
       "      <td>24.65</td>\n",
       "      <td>24.65</td>\n",
       "      <td>23.60</td>\n",
       "      <td>403884.0</td>\n",
       "      <td>4.449153</td>\n",
       "      <td>-4.259635</td>\n",
       "      <td>17.40</td>\n",
       "    </tr>\n",
       "    <tr>\n",
       "      <th>2018-03-26</th>\n",
       "      <td>23.75</td>\n",
       "      <td>24.80</td>\n",
       "      <td>24.65</td>\n",
       "      <td>375320.0</td>\n",
       "      <td>0.608519</td>\n",
       "      <td>3.789474</td>\n",
       "      <td>17.95</td>\n",
       "    </tr>\n",
       "    <tr>\n",
       "      <th>2018-03-23</th>\n",
       "      <td>23.55</td>\n",
       "      <td>24.20</td>\n",
       "      <td>23.55</td>\n",
       "      <td>301584.0</td>\n",
       "      <td>2.760085</td>\n",
       "      <td>0.000000</td>\n",
       "      <td>18.50</td>\n",
       "    </tr>\n",
       "    <tr>\n",
       "      <th>2018-03-22</th>\n",
       "      <td>23.90</td>\n",
       "      <td>24.35</td>\n",
       "      <td>23.35</td>\n",
       "      <td>269607.0</td>\n",
       "      <td>4.282655</td>\n",
       "      <td>-2.301255</td>\n",
       "      <td>18.05</td>\n",
       "    </tr>\n",
       "    <tr>\n",
       "      <th>2018-03-21</th>\n",
       "      <td>23.80</td>\n",
       "      <td>24.60</td>\n",
       "      <td>23.95</td>\n",
       "      <td>354092.0</td>\n",
       "      <td>2.713987</td>\n",
       "      <td>0.630252</td>\n",
       "      <td>17.90</td>\n",
       "    </tr>\n",
       "  </tbody>\n",
       "</table>\n",
       "</div>"
      ],
      "text/plain": [
       "            adj_open  adj_high  adj_close  adj_volume    HL_PCT  PCT_change  \\\n",
       "date                                                                          \n",
       "2018-03-27     24.65     24.65      23.60    403884.0  4.449153   -4.259635   \n",
       "2018-03-26     23.75     24.80      24.65    375320.0  0.608519    3.789474   \n",
       "2018-03-23     23.55     24.20      23.55    301584.0  2.760085    0.000000   \n",
       "2018-03-22     23.90     24.35      23.35    269607.0  4.282655   -2.301255   \n",
       "2018-03-21     23.80     24.60      23.95    354092.0  2.713987    0.630252   \n",
       "\n",
       "            label  \n",
       "date               \n",
       "2018-03-27  17.40  \n",
       "2018-03-26  17.95  \n",
       "2018-03-23  18.50  \n",
       "2018-03-22  18.05  \n",
       "2018-03-21  17.90  "
      ]
     },
     "execution_count": 16,
     "metadata": {},
     "output_type": "execute_result"
    }
   ],
   "source": [
    "df.head()"
   ]
  },
  {
   "cell_type": "code",
   "execution_count": 17,
   "id": "76a93f12",
   "metadata": {},
   "outputs": [
    {
     "name": "stdout",
     "output_type": "stream",
     "text": [
      "<class 'pandas.core.frame.DataFrame'>\n",
      "Index: 10000 entries, 2018-03-27 to 1994-01-04\n",
      "Data columns (total 7 columns):\n",
      " #   Column      Non-Null Count  Dtype  \n",
      "---  ------      --------------  -----  \n",
      " 0   adj_open    10000 non-null  float64\n",
      " 1   adj_high    10000 non-null  float64\n",
      " 2   adj_close   10000 non-null  float64\n",
      " 3   adj_volume  10000 non-null  float64\n",
      " 4   HL_PCT      10000 non-null  float64\n",
      " 5   PCT_change  10000 non-null  float64\n",
      " 6   label       9900 non-null   float64\n",
      "dtypes: float64(7)\n",
      "memory usage: 883.0+ KB\n"
     ]
    }
   ],
   "source": [
    "df.info()"
   ]
  },
  {
   "cell_type": "code",
   "execution_count": 18,
   "id": "da6bfece",
   "metadata": {},
   "outputs": [],
   "source": [
    "df.dropna(inplace=True)"
   ]
  },
  {
   "cell_type": "code",
   "execution_count": 19,
   "id": "ed0fe763",
   "metadata": {},
   "outputs": [
    {
     "name": "stdout",
     "output_type": "stream",
     "text": [
      "<class 'pandas.core.frame.DataFrame'>\n",
      "Index: 9900 entries, 2018-03-27 to 1994-05-27\n",
      "Data columns (total 7 columns):\n",
      " #   Column      Non-Null Count  Dtype  \n",
      "---  ------      --------------  -----  \n",
      " 0   adj_open    9900 non-null   float64\n",
      " 1   adj_high    9900 non-null   float64\n",
      " 2   adj_close   9900 non-null   float64\n",
      " 3   adj_volume  9900 non-null   float64\n",
      " 4   HL_PCT      9900 non-null   float64\n",
      " 5   PCT_change  9900 non-null   float64\n",
      " 6   label       9900 non-null   float64\n",
      "dtypes: float64(7)\n",
      "memory usage: 618.8+ KB\n"
     ]
    }
   ],
   "source": [
    "df.info()"
   ]
  },
  {
   "cell_type": "code",
   "execution_count": 20,
   "id": "0d51b453",
   "metadata": {},
   "outputs": [],
   "source": [
    "from sklearn import preprocessing ,svm\n",
    "from sklearn.model_selection import train_test_split"
   ]
  },
  {
   "cell_type": "code",
   "execution_count": 22,
   "id": "2cdd796c",
   "metadata": {},
   "outputs": [],
   "source": [
    "# X.head()"
   ]
  },
  {
   "cell_type": "code",
   "execution_count": 23,
   "id": "5652f2e3",
   "metadata": {},
   "outputs": [],
   "source": [
    "\n",
    "X=df.drop(\"label\",axis=1)\n",
    "y=df[\"label\"]"
   ]
  },
  {
   "cell_type": "code",
   "execution_count": 26,
   "id": "d8fe3e2f",
   "metadata": {},
   "outputs": [],
   "source": [
    "x=preprocessing.scale(X)\n",
    "# X=X[: -forecast_out]\n",
    "x_lately=x[-forecast_out:]\n",
    "df.dropna(inplace=True)"
   ]
  },
  {
   "cell_type": "code",
   "execution_count": 27,
   "id": "046467c3",
   "metadata": {},
   "outputs": [
    {
     "name": "stdout",
     "output_type": "stream",
     "text": [
      "<class 'pandas.core.frame.DataFrame'>\n",
      "Index: 9900 entries, 2018-03-27 to 1994-05-27\n",
      "Data columns (total 6 columns):\n",
      " #   Column      Non-Null Count  Dtype  \n",
      "---  ------      --------------  -----  \n",
      " 0   adj_open    9900 non-null   float64\n",
      " 1   adj_high    9900 non-null   float64\n",
      " 2   adj_close   9900 non-null   float64\n",
      " 3   adj_volume  9900 non-null   float64\n",
      " 4   HL_PCT      9900 non-null   float64\n",
      " 5   PCT_change  9900 non-null   float64\n",
      "dtypes: float64(6)\n",
      "memory usage: 541.4+ KB\n"
     ]
    }
   ],
   "source": [
    "X.info()"
   ]
  },
  {
   "cell_type": "code",
   "execution_count": 28,
   "id": "c0025198",
   "metadata": {},
   "outputs": [
    {
     "data": {
      "text/plain": [
       "(9900, 9900)"
      ]
     },
     "execution_count": 28,
     "metadata": {},
     "output_type": "execute_result"
    }
   ],
   "source": [
    "len(X),len(y)"
   ]
  },
  {
   "cell_type": "code",
   "execution_count": 29,
   "id": "7584f5e2",
   "metadata": {},
   "outputs": [],
   "source": [
    "import random\n",
    "random.seed(42)\n",
    "X_train,X_test,y_train,y_test=train_test_split(X,y,test_size=0.2)"
   ]
  },
  {
   "cell_type": "code",
   "execution_count": 30,
   "id": "f9094abb",
   "metadata": {},
   "outputs": [
    {
     "data": {
      "application/javascript": [
       "\n",
       "        if (window._pyforest_update_imports_cell) { window._pyforest_update_imports_cell('from sklearn import svm\\nfrom sklearn.linear_model import LinearRegression'); }\n",
       "    "
      ],
      "text/plain": [
       "<IPython.core.display.Javascript object>"
      ]
     },
     "metadata": {},
     "output_type": "display_data"
    },
    {
     "data": {
      "text/plain": [
       "0.6909712854287473"
      ]
     },
     "execution_count": 30,
     "metadata": {},
     "output_type": "execute_result"
    }
   ],
   "source": [
    "reg=LinearRegression(n_jobs=-8)\n",
    "reg.fit(X_train,y_train)\n",
    "accuracy=reg.score(X_test,y_test)\n",
    "accuracy"
   ]
  },
  {
   "cell_type": "code",
   "execution_count": 31,
   "id": "4afa0563",
   "metadata": {},
   "outputs": [
    {
     "data": {
      "text/plain": [
       "100"
      ]
     },
     "execution_count": 31,
     "metadata": {},
     "output_type": "execute_result"
    }
   ],
   "source": [
    "forecast_out"
   ]
  },
  {
   "cell_type": "code",
   "execution_count": null,
   "id": "e13b3737",
   "metadata": {},
   "outputs": [],
   "source": [
    "reg=svm.SVR(kernel=\"poly\")\n",
    "reg.fit(X_train,y_train)\n",
    "accuracy=reg.score(X_test,y_test)\n",
    "accuracy"
   ]
  },
  {
   "cell_type": "code",
   "execution_count": 35,
   "id": "c85c2478",
   "metadata": {},
   "outputs": [
    {
     "ename": "AttributeError",
     "evalue": "'str' object has no attribute 'timestamp'",
     "output_type": "error",
     "traceback": [
      "\u001b[1;31m---------------------------------------------------------------------------\u001b[0m",
      "\u001b[1;31mAttributeError\u001b[0m                            Traceback (most recent call last)",
      "Input \u001b[1;32mIn [35]\u001b[0m, in \u001b[0;36m<cell line: 3>\u001b[1;34m()\u001b[0m\n\u001b[0;32m      1\u001b[0m df[\u001b[38;5;124m'\u001b[39m\u001b[38;5;124mForecast\u001b[39m\u001b[38;5;124m'\u001b[39m] \u001b[38;5;241m=\u001b[39m np\u001b[38;5;241m.\u001b[39mnan\n\u001b[0;32m      2\u001b[0m last_date \u001b[38;5;241m=\u001b[39m df\u001b[38;5;241m.\u001b[39miloc[\u001b[38;5;241m-\u001b[39m\u001b[38;5;241m1\u001b[39m]\u001b[38;5;241m.\u001b[39mname\n\u001b[1;32m----> 3\u001b[0m last_unix \u001b[38;5;241m=\u001b[39m \u001b[43mlast_date\u001b[49m\u001b[38;5;241;43m.\u001b[39;49m\u001b[43mtimestamp\u001b[49m()\n\u001b[0;32m      4\u001b[0m one_day \u001b[38;5;241m=\u001b[39m \u001b[38;5;241m86400\u001b[39m\n\u001b[0;32m      5\u001b[0m next_unix \u001b[38;5;241m=\u001b[39m last_unix \u001b[38;5;241m+\u001b[39m one_day\n",
      "\u001b[1;31mAttributeError\u001b[0m: 'str' object has no attribute 'timestamp'"
     ]
    }
   ],
   "source": [
    "df['Forecast'] = np.nan\n",
    "last_date = df.iloc[-1].name\n",
    "last_unix = last_date.timestamp()\n",
    "one_day = 86400\n",
    "next_unix = last_unix + one_day\n",
    "\n",
    "for i in forecast_set:\n",
    "    next_date = dt.datetime.fromtimestamp(next_unix)\n",
    "    next_unix += one_day\n",
    "    df.loc[next_date] = [np.nan for _ in range(len(df.columns)-1)]+[i]\n",
    "df.head()"
   ]
  },
  {
   "cell_type": "code",
   "execution_count": null,
   "id": "ecec99db",
   "metadata": {},
   "outputs": [],
   "source": []
  }
 ],
 "metadata": {
  "kernelspec": {
   "display_name": "Python 3 (ipykernel)",
   "language": "python",
   "name": "python3"
  },
  "language_info": {
   "codemirror_mode": {
    "name": "ipython",
    "version": 3
   },
   "file_extension": ".py",
   "mimetype": "text/x-python",
   "name": "python",
   "nbconvert_exporter": "python",
   "pygments_lexer": "ipython3",
   "version": "3.9.12"
  }
 },
 "nbformat": 4,
 "nbformat_minor": 5
}
